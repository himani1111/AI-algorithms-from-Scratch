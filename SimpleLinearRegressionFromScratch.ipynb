{
  "nbformat": 4,
  "nbformat_minor": 0,
  "metadata": {
    "colab": {
      "provenance": []
    },
    "kernelspec": {
      "name": "python3",
      "display_name": "Python 3"
    },
    "language_info": {
      "name": "python"
    }
  },
  "cells": [
    {
      "cell_type": "code",
      "execution_count": 1,
      "metadata": {
        "id": "EYeK366zWfzY"
      },
      "outputs": [],
      "source": [
        "import numpy as np\n",
        "import pandas as pd\n",
        "from sklearn import datasets\n",
        "from sklearn.model_selection import train_test_split\n",
        "import matplotlib.pyplot as plt"
      ]
    },
    {
      "cell_type": "code",
      "source": [
        "class SimpleLinear:\n",
        "\n",
        "  def __init__(self, lr = 0.01, n_iters = 1000, max_tolerance = 0.01):\n",
        "    self.lr = lr\n",
        "    self.n_iters = n_iters\n",
        "    self.max_tolerance = max_tolerance\n",
        "    self.weights = None\n",
        "    self.bias = None\n",
        "\n",
        "  def predict(self,data):\n",
        "    return np.dot(data,self.weights) + self.bias\n",
        "\n",
        "  def fit(self, X, y):\n",
        "    n_samples, n_features = X.shape\n",
        "    self.weights = np.zeros(n_features)\n",
        "    self.bias = 0\n",
        "\n",
        "    for _ in range(self.n_iters):\n",
        "      y_pred = np.dot(X, self.weights) + self.bias\n",
        "\n",
        "      dw = (1/n_samples)*np.dot(X.T,(y_pred-y))\n",
        "      db = (1/n_samples)*np.sum(y_pred-y)\n",
        "\n",
        "      old_weights = self.weights\n",
        "      old_bias = self.bias\n",
        "      self.weights = self.weights - self.lr*dw\n",
        "      self.bias = self.bias - self.lr*db\n",
        "\n",
        "      isOptimal = False\n",
        "      if abs(np.sum(self.weights - old_weights)) <= self.max_tolerance:\n",
        "        isOptimal = True\n",
        "      if isOptimal:\n",
        "        break\n",
        "\n",
        "  def mse(self, y_pred, y_true):\n",
        "    return np.mean((y_true-y_pred)**2)"
      ],
      "metadata": {
        "id": "94D0ArFfW211"
      },
      "execution_count": 2,
      "outputs": []
    },
    {
      "cell_type": "code",
      "source": [
        "X,y = datasets.make_regression(n_samples=100, n_features=1, noise=20, random_state=4)\n",
        "X_train, X_test, y_train, y_test = train_test_split(X,y, test_size=0.2, random_state = 1234)"
      ],
      "metadata": {
        "id": "htuaK8mDZtO1"
      },
      "execution_count": 3,
      "outputs": []
    },
    {
      "cell_type": "code",
      "source": [
        "slr =SimpleLinear()\n",
        "slr.fit(X_train, y_train)"
      ],
      "metadata": {
        "id": "rk9AV-i_KebB"
      },
      "execution_count": 4,
      "outputs": []
    },
    {
      "cell_type": "code",
      "source": [
        "y_pred = slr.predict(X_test)"
      ],
      "metadata": {
        "id": "ZJNovZA8XMAh"
      },
      "execution_count": 5,
      "outputs": []
    },
    {
      "cell_type": "code",
      "source": [
        "slr.mse(y_pred, y_test)"
      ],
      "metadata": {
        "colab": {
          "base_uri": "https://localhost:8080/"
        },
        "id": "E_kCuHGNXPcC",
        "outputId": "3c15baf2-27be-4c75-a09a-b7a5bc79a358"
      },
      "execution_count": 6,
      "outputs": [
        {
          "output_type": "execute_result",
          "data": {
            "text/plain": [
              "np.float64(305.391636808288)"
            ]
          },
          "metadata": {},
          "execution_count": 6
        }
      ]
    },
    {
      "cell_type": "code",
      "source": [
        "y_pred_line = slr.predict(X)\n",
        "cmap = plt.get_cmap('viridis')\n",
        "fig = plt.figure(figsize=(8,6))\n",
        "m1 = plt.scatter(X_train, y_train, color = cmap(0.9), s=10)\n",
        "m2 = plt.scatter(X_test, y_test, color = cmap(0.5), s=10)\n",
        "plt.plot(X, y_pred_line, color = 'black', linewidth=2, label = 'prediction')\n",
        "plt.show()"
      ],
      "metadata": {
        "colab": {
          "base_uri": "https://localhost:8080/",
          "height": 526
        },
        "id": "f0oum75UXTEV",
        "outputId": "99ef7948-f1a5-4574-d2e3-ac93bf39df07"
      },
      "execution_count": 7,
      "outputs": [
        {
          "output_type": "display_data",
          "data": {
            "text/plain": [
              "<Figure size 800x600 with 1 Axes>"
            ],
            "image/png": "[encoded data removed]"
          },
          "metadata": {}
        }
      ]
    },
    {
      "cell_type": "code",
      "source": [],
      "metadata": {
        "id": "WKlq_oAdXYAN"
      },
      "execution_count": null,
      "outputs": []
    }
  ]
}