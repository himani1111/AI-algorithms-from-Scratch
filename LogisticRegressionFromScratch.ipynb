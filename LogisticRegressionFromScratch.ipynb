{
  "nbformat": 4,
  "nbformat_minor": 0,
  "metadata": {
    "colab": {
      "provenance": []
    },
    "kernelspec": {
      "name": "python3",
      "display_name": "Python 3"
    },
    "language_info": {
      "name": "python"
    }
  },
  "cells": [
    {
      "cell_type": "code",
      "execution_count": 1,
      "metadata": {
        "id": "EYeK366zWfzY"
      },
      "outputs": [],
      "source": [
        "import numpy as np\n",
        "import pandas as pd\n",
        "from sklearn import datasets\n",
        "from sklearn.model_selection import train_test_split\n",
        "import matplotlib.pyplot as plt"
      ]
    },
    {
      "cell_type": "code",
      "source": [
        "class LogisticRegression:\n",
        "\n",
        "  def __init__(self, threshold = 0.5, lr = 0.001, max_iters = 1000):\n",
        "    self.lr = lr\n",
        "    self.max_iters = max_iters\n",
        "    self.weights = None\n",
        "    self.bias = None\n",
        "    self.threshold = threshold\n",
        "\n",
        "  def sigmoid(self,x):\n",
        "    return 1 / (1 + np.exp(-x))\n",
        "\n",
        "  def predict(self, data):\n",
        "    y_val = np.dot(data, self.weights) + self.bias\n",
        "    y_pred = self.sigmoid(y_val)\n",
        "    y_pred_class = [1 if i > self.threshold else 0 for i in y_pred]\n",
        "    return y_pred_class\n",
        "\n",
        "  def fit(self, X, y):\n",
        "    n_samples, n_features = X.shape\n",
        "    self.weights = np.zeros(n_features)\n",
        "    self.bias = 0\n",
        "\n",
        "    for _ in range(self.max_iters):\n",
        "      y_val = np.dot(X, self.weights) + self.bias\n",
        "      y_pred = self.sigmoid(y_val)\n",
        "      y_pred_class = [1 if i > self.threshold else 0 for i in y_pred]\n",
        "\n",
        "      dw = 1/n_samples*np.dot(X.T,(y_pred_class - y))\n",
        "      db = 1/n_samples*np.sum(y_pred_class - y)\n",
        "\n",
        "      self.weights -= self.lr*dw\n",
        "      self.bias -= self.lr*db\n",
        "\n",
        "  def accuracy(self, y_pred, y_true):\n",
        "    return np.sum(y_true==y_pred)/len(y_true)"
      ],
      "metadata": {
        "id": "94D0ArFfW211"
      },
      "execution_count": 2,
      "outputs": []
    },
    {
      "cell_type": "code",
      "source": [
        "breast_cancer_data = datasets.load_breast_cancer()\n",
        "X = breast_cancer_data.data\n",
        "y = breast_cancer_data.target\n",
        "X_train, X_test, y_train, y_test = train_test_split(X,y, test_size=0.2, random_state = 1234)"
      ],
      "metadata": {
        "id": "htuaK8mDZtO1"
      },
      "execution_count": 3,
      "outputs": []
    },
    {
      "cell_type": "code",
      "source": [
        "logReg = LogisticRegression()\n",
        "logReg.fit(X_train, y_train)\n",
        "predictions = logReg.predict(X_test)\n",
        "accuracy = logReg.accuracy(predictions, y_test)\n",
        "print(accuracy)"
      ],
      "metadata": {
        "id": "rk9AV-i_KebB",
        "colab": {
          "base_uri": "https://localhost:8080/"
        },
        "outputId": "7b8f4a84-57ea-428a-c8c7-0e4623b8fc39"
      },
      "execution_count": 4,
      "outputs": [
        {
          "output_type": "stream",
          "name": "stderr",
          "text": [
            "<ipython-input-2-1d51a96e31b0>:11: RuntimeWarning: overflow encountered in exp\n",
            "  return 1 / (1 + np.exp(-x))\n"
          ]
        },
        {
          "output_type": "stream",
          "name": "stdout",
          "text": [
            "0.8947368421052632\n"
          ]
        }
      ]
    },
    {
      "cell_type": "code",
      "source": [],
      "metadata": {
        "id": "WKlq_oAdXYAN"
      },
      "execution_count": null,
      "outputs": []
    }
  ]
}