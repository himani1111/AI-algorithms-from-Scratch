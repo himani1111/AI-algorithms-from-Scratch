{
  "nbformat": 4,
  "nbformat_minor": 0,
  "metadata": {
    "colab": {
      "provenance": []
    },
    "kernelspec": {
      "name": "python3",
      "display_name": "Python 3"
    },
    "language_info": {
      "name": "python"
    }
  },
  "cells": [
    {
      "cell_type": "code",
      "execution_count": 1,
      "metadata": {
        "id": "IpAY8QyEQ9nM"
      },
      "outputs": [],
      "source": [
        "import numpy as np"
      ]
    },
    {
      "cell_type": "code",
      "source": [
        "class Kmeans:\n",
        "\n",
        "  def __init__(self, n_clusters = 5, max_iters = 100, max_tolerance = 0.1):\n",
        "    self.n_clusters = n_clusters\n",
        "    self.max_iters = max_iters\n",
        "    self.max_tolerance = max_tolerance\n",
        "\n",
        "  def euclidean_distance(self, point1, point2):\n",
        "    return np.linalg.norm(point1 - point2, axis = 0)\n",
        "\n",
        "  def predict(self,data):\n",
        "    distances = [np.linalg.norm(data-self.centroids[centroid]) for centroid in self.centroids]\n",
        "    classification = distances.index(min(distances))\n",
        "    return classification\n",
        "\n",
        "  def fit(self, X):\n",
        "    self.centroids = {}\n",
        "    for i in range(self.n_clusters):\n",
        "      self.centroids[i] = X[i]\n",
        "\n",
        "    for _ in range(self.max_iters):\n",
        "      self.classes = {}\n",
        "      for i in range(self.n_clusters):\n",
        "        self.classes[i] = []\n",
        "\n",
        "      for point in X:\n",
        "        distances = []\n",
        "        for i in self.centroids:\n",
        "          distances.append(self.euclidean_distance(i,point))\n",
        "        cluster_point = distances.index(min(distances))\n",
        "        self.classes[cluster_point].append(point)\n",
        "\n",
        "      previous = dict(self.centroids)\n",
        "      for i in range(self.n_clusters):\n",
        "        self.centroids[i] = np.average(self.classes[i],axis = 0)\n",
        "\n",
        "      isOptimal = True\n",
        "\n",
        "      for centroid in self.centroids:\n",
        "        original_centroid = previous[centroid]\n",
        "        curr = self.centroids[centroid]\n",
        "        if np.sum((curr - original_centroid)/original_centroid * 100.0) > self.max_tolerance:\n",
        "          isOptimal = False\n",
        "        if isOptimal:\n",
        "          break\n"
      ],
      "metadata": {
        "id": "ZGCtjTsRRFtn"
      },
      "execution_count": 2,
      "outputs": []
    },
    {
      "cell_type": "code",
      "source": [
        "center_1 = np.array([1,1])\n",
        "center_2 = np.array([5,5])\n",
        "center_3 = np.array([8,1])\n",
        "\n",
        "# Generate random data and center it to the three centers\n",
        "cluster_1 = np.random.randn(100, 2) + center_1\n",
        "cluster_2 = np.random.randn(100,2) + center_2\n",
        "cluster_3 = np.random.randn(100,2) + center_3\n",
        "\n",
        "data = np.concatenate((cluster_1, cluster_2, cluster_3), axis = 0)"
      ],
      "metadata": {
        "id": "d41ETcYHRLw-"
      },
      "execution_count": 3,
      "outputs": []
    },
    {
      "cell_type": "code",
      "source": [
        "km = Kmeans(n_clusters = 3)\n",
        "km.fit(data)"
      ],
      "metadata": {
        "id": "5b3bnN_iRZ6T"
      },
      "execution_count": 4,
      "outputs": []
    },
    {
      "cell_type": "code",
      "source": [
        "Y = np.array([[-8,1]]).reshape(1,2)"
      ],
      "metadata": {
        "id": "KY1-qxmZRha5"
      },
      "execution_count": 7,
      "outputs": []
    },
    {
      "cell_type": "code",
      "source": [
        "km.predict(Y)"
      ],
      "metadata": {
        "colab": {
          "base_uri": "https://localhost:8080/"
        },
        "id": "U1KChKM_Rl-l",
        "outputId": "10b20e7e-6d35-4a2d-cdce-4f35898b1ff5"
      },
      "execution_count": 8,
      "outputs": [
        {
          "output_type": "execute_result",
          "data": {
            "text/plain": [
              "0"
            ]
          },
          "metadata": {},
          "execution_count": 8
        }
      ]
    },
    {
      "cell_type": "code",
      "source": [],
      "metadata": {
        "id": "We5qHIcURpta"
      },
      "execution_count": null,
      "outputs": []
    }
  ]
}