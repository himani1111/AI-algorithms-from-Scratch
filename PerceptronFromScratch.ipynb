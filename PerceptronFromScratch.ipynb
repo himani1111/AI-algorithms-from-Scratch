{
  "nbformat": 4,
  "nbformat_minor": 0,
  "metadata": {
    "colab": {
      "provenance": []
    },
    "kernelspec": {
      "name": "python3",
      "display_name": "Python 3"
    },
    "language_info": {
      "name": "python"
    }
  },
  "cells": [
    {
      "cell_type": "code",
      "execution_count": 1,
      "metadata": {
        "id": "EYeK366zWfzY"
      },
      "outputs": [],
      "source": [
        "import numpy as np\n",
        "import pandas as pd\n",
        "from sklearn import datasets\n",
        "from sklearn.model_selection import train_test_split\n",
        "import matplotlib.pyplot as plt"
      ]
    },
    {
      "cell_type": "code",
      "source": [
        "class Perceptron:\n",
        "\n",
        "  def __init__(self, learning_rate = 0.001, n_iters = 1000):\n",
        "    self.learning_rate = learning_rate\n",
        "    self.n_iters = n_iters\n",
        "    self.activation_func = self.unit_step_func\n",
        "    self.weights = None\n",
        "    self.bias = None\n",
        "\n",
        "  def unit_step_func(self, X):\n",
        "    return np.where(X>=0,1,0)\n",
        "\n",
        "  def predict(self, data):\n",
        "    y_linear = np.dot(data, self.weights) + self.bias\n",
        "    y_pred = self.activation_func(y_linear)\n",
        "    return y_pred\n",
        "\n",
        "  def fit(self, X, y):\n",
        "    n_samples, n_features = X.shape\n",
        "    self.weights = np.random.randint(0,1,size = n_features)\n",
        "    self.bias = 0\n",
        "\n",
        "    y_ = [1 if i>=0 else 0 for i in y]\n",
        "\n",
        "    for _ in range(self.n_iters):\n",
        "      for idx, x_i in enumerate(X):\n",
        "        y_linear = np.dot(x_i, self.weights)+self.bias\n",
        "        y_pred = self.activation_func(y_linear)\n",
        "\n",
        "        update = self.learning_rate*(y_[idx] - y_pred)\n",
        "        self.weights = self.weights + update*x_i\n",
        "        self.bias = self.bias + update\n",
        "\n",
        "  def accuracy(self, y_pred, y_true):\n",
        "    return np.sum(y_true==y_pred)/len(y_true)\n",
        ""
      ],
      "metadata": {
        "id": "94D0ArFfW211"
      },
      "execution_count": 2,
      "outputs": []
    },
    {
      "cell_type": "code",
      "source": [
        "X, y =datasets.make_blobs(n_samples=150, n_features=2, centers=2, cluster_std=1.05, random_state=2)\n",
        "X_train, X_test, y_train, y_test = train_test_split(X, y, test_size=0.2, random_state=123)"
      ],
      "metadata": {
        "id": "htuaK8mDZtO1"
      },
      "execution_count": 3,
      "outputs": []
    },
    {
      "cell_type": "code",
      "source": [
        "perceptron = Perceptron(learning_rate=0.01)\n",
        "perceptron.fit(X_train, y_train)\n",
        "predictions = perceptron.predict(X_test)\n",
        "accuracy = perceptron.accuracy(predictions, y_test)\n",
        "print(accuracy)"
      ],
      "metadata": {
        "id": "rk9AV-i_KebB",
        "colab": {
          "base_uri": "https://localhost:8080/"
        },
        "outputId": "82ac7d10-a24d-4657-8b2f-078c03af8a74"
      },
      "execution_count": 4,
      "outputs": [
        {
          "output_type": "stream",
          "name": "stdout",
          "text": [
            "0.5333333333333333\n"
          ]
        }
      ]
    },
    {
      "cell_type": "code",
      "source": [],
      "metadata": {
        "id": "WKlq_oAdXYAN"
      },
      "execution_count": null,
      "outputs": []
    }
  ]
}